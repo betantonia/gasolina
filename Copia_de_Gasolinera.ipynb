{
  "nbformat": 4,
  "nbformat_minor": 0,
  "metadata": {
    "colab": {
      "provenance": [],
      "authorship_tag": "ABX9TyOe35qeBuZ1HT26nuHmmMs8",
      "include_colab_link": true
    },
    "kernelspec": {
      "name": "python3",
      "display_name": "Python 3"
    },
    "language_info": {
      "name": "python"
    }
  },
  "cells": [
    {
      "cell_type": "markdown",
      "metadata": {
        "id": "view-in-github",
        "colab_type": "text"
      },
      "source": [
        "<a href=\"https://colab.research.google.com/github/betantonia/gasolina/blob/main/Copia_de_Gasolinera.ipynb\" target=\"_parent\"><img src=\"https://colab.research.google.com/assets/colab-badge.svg\" alt=\"Open In Colab\"/></a>"
      ]
    },
    {
      "cell_type": "code",
      "source": [
        "import http.client\n",
        "import json\n",
        "import requests\n",
        "from bs4 import BeautifulSoup\n",
        "\n",
        "url = 'https://www.fuelflash.eu/es/autonetoil-palma-españa-carrer-de-son-pendola-1-61933/'\n",
        "\n",
        "# Realizamos la petición a la URL\n",
        "response = http.client.HTTPSConnection(\"api.telegram.org\")\n",
        "\n",
        "# Obtener el precio del gasóleo\n",
        "soup = BeautifulSoup(requests.get(url).text, 'html.parser')\n",
        "precio_gasoleo = soup.find('span', {'class': 'preis_part1'}).text.strip()\n",
        "\n",
        "# Definimos el mensaje a enviar\n",
        "mensaje = f\"El precio del gasóleo es: {precio_gasoleo}\"\n",
        "\n",
        "# Definimos los parámetros para la solicitud HTTP POST\n",
        "bot_token = \"484135027:AAGGd-kcO4PRvQ1Ca5jioMZDDSZvAxdSvl0\"\n",
        "chat_id = \"-1001830405274\"\n",
        "headers = {'Content-type': 'application/json'}\n",
        "data = {\n",
        "    'text': mensaje,\n",
        "    'chat_id': chat_id\n",
        "}\n",
        "\n",
        "# Codificamos los parámetros a formato JSON\n",
        "json_data = json.dumps(data)\n",
        "\n",
        "# Enviamos la solicitud HTTP POST a la API de Telegram para enviar el mensaje\n",
        "response.request(\"POST\", f\"/bot{bot_token}/sendMessage\", json_data, headers)\n",
        "\n",
        "# Obtenemos la respuesta de la API de Telegram\n",
        "response = response.getresponse()\n",
        "\n",
        "# Imprimimos la respuesta en la consola\n",
        "print(response.read().decode())\n",
